{
 "cells": [
  {
   "cell_type": "markdown",
   "metadata": {},
   "source": [
    "### Note: As of time of writing, analysis is being performed on incomplete dataset for pedagogical purposes. In other words, the plots below are not informative of the information presented in the original manuscript."
   ]
  },
  {
   "cell_type": "code",
   "execution_count": 1,
   "metadata": {
    "collapsed": true
   },
   "outputs": [],
   "source": [
    "import numpy as np\n",
    "import matplotlib.pyplot as plt\n",
    "import seaborn as sns\n",
    "from pandas import DataFrame, concat, read_csv\n",
    "sns.set_style('white')\n",
    "sns.set_context('notebook', font_scale=1.75)\n",
    "%matplotlib inline\n",
    "\n",
    "#~~~~~~~~~~~~~~~~~~~~~~~~~~~~~~~~~~~~~~~~~~#\n",
    "### Load data.\n",
    "#~~~~~~~~~~~~~~~~~~~~~~~~~~~~~~~~~~~~~~~~~~#\n",
    "\n",
    "data = read_csv('data/moodRL_data.csv')\n",
    "metadata = read_csv('data/moodRL_metadata.csv')\n",
    "ratings = read_csv('data/moodRL_ratings.csv')"
   ]
  },
  {
   "cell_type": "markdown",
   "metadata": {},
   "source": [
    "## Section 1: Sanity Checks"
   ]
  },
  {
   "cell_type": "markdown",
   "metadata": {},
   "source": [
    "### Task performance\n",
    "Screen participants for number of optimal choices. "
   ]
  },
  {
   "cell_type": "code",
   "execution_count": 2,
   "metadata": {},
   "outputs": [
    {
     "data": {
      "image/png": "[encoded data removed]",
      "text/plain": [
       "<matplotlib.figure.Figure at 0x7f5fb2ac9c50>"
      ]
     },
     "metadata": {},
     "output_type": "display_data"
    }
   ],
   "source": [
    "from scipy.stats import binom\n",
    "\n",
    "#~~~~~~~~~~~~~~~~~~~~~~~~~~~~~~~~~~~~~~~~~~#\n",
    "### Define parameters.\n",
    "#~~~~~~~~~~~~~~~~~~~~~~~~~~~~~~~~~~~~~~~~~~#\n",
    "\n",
    "## Rejection parameters.\n",
    "n_test_trials = 18\n",
    "chance = 0.50\n",
    "alpha = 0.1\n",
    "\n",
    "#~~~~~~~~~~~~~~~~~~~~~~~~~~~~~~~~~~~~~~~~~~#\n",
    "### Prepare data.\n",
    "#~~~~~~~~~~~~~~~~~~~~~~~~~~~~~~~~~~~~~~~~~~#\n",
    "\n",
    "## Optimal choices.\n",
    "ix = np.logical_and(data.Block<4, data.Choice.notnull())\n",
    "optimal_choice = data[ix].copy()\n",
    "optimal_choice['Optimal'] = np.equal(optimal_choice['Choice'], \n",
    "                                     optimal_choice[['M1','M2']].max(axis=1))\n",
    "optimal_choice = optimal_choice.groupby('Datetime').Optimal.mean().reset_index()\n",
    "\n",
    "## Discrimination check.\n",
    "ix = np.logical_and(data.Block==4, data.Choice.notnull())\n",
    "discrimination = data[ix].copy()\n",
    "discrimination[['M1','M2','Choice']] = np.where(discrimination[['M1','M2','Choice']] % 3, \n",
    "                                                discrimination[['M1','M2','Choice']] % 3, 3)\n",
    "discrimination = discrimination[~np.equal(discrimination['M1'],discrimination['M2'])]\n",
    "discrimination['Optimal'] = np.equal(discrimination['Choice'], \n",
    "                                     discrimination[['M1','M2']].max(axis=1))\n",
    "discrimination = discrimination.groupby('Datetime').Optimal.mean().reset_index()\n",
    "\n",
    "## Merge.\n",
    "gb = optimal_choice.merge(discrimination, on='Datetime')\n",
    "\n",
    "#~~~~~~~~~~~~~~~~~~~~~~~~~~~~~~~~~~~~~~~~~~#\n",
    "### Reject participants.\n",
    "#~~~~~~~~~~~~~~~~~~~~~~~~~~~~~~~~~~~~~~~~~~#\n",
    "\n",
    "## Define rejection level.\n",
    "reject_level = binom.ppf(1-alpha, n_test_trials, chance) / n_test_trials\n",
    "\n",
    "## Identify participants beneath threshold.\n",
    "reject_id = gb.loc[gb.Optimal_y < reject_level, 'Datetime']\n",
    "\n",
    "## Remove.\n",
    "data = data[~np.in1d(data.Datetime, reject_id)]\n",
    "metadata = metadata[~np.in1d(metadata.Datetime, reject_id)]\n",
    "ratings = ratings[~np.in1d(ratings.Datetime, reject_id)]\n",
    "\n",
    "#~~~~~~~~~~~~~~~~~~~~~~~~~~~~~~~~~~~~~~~~~~#\n",
    "### Plotting.\n",
    "#~~~~~~~~~~~~~~~~~~~~~~~~~~~~~~~~~~~~~~~~~~#\n",
    "\n",
    "## Plot.\n",
    "g = sns.jointplot('Optimal_x', 'Optimal_y', data=gb,  annot_kws=dict(stat=\"r\", fontsize=14),\n",
    "                  marginal_kws=dict(hist_kws=dict(edgecolor='w', linewidth=1)))\n",
    "g.set_axis_labels(xlabel='Optimal Choice', ylabel='Test Accuracy')\n",
    "\n",
    "## Plot rejection levels.\n",
    "xmin, xmax = g.fig.axes[0].get_xlim()\n",
    "ymin, ymax = g.fig.axes[0].get_ylim()\n",
    "g.fig.axes[0].hlines(reject_level, xmin, reject_level, linestyle='--', alpha=0.7)\n",
    "g.fig.axes[0].vlines(reject_level, ymin, reject_level, linestyle='--', alpha=0.7)\n",
    "g.fig.axes[0].set(xlim=(xmin,xmax), ylim=(ymin,ymax))\n",
    "\n",
    "plt.tight_layout()"
   ]
  },
  {
   "cell_type": "markdown",
   "metadata": {},
   "source": [
    "### Task Learning"
   ]
  },
  {
   "cell_type": "code",
   "execution_count": 3,
   "metadata": {},
   "outputs": [
    {
     "data": {
      "image/png": "[encoded data removed]",
      "text/plain": [
       "<matplotlib.figure.Figure at 0x7f5fa9fe1be0>"
      ]
     },
     "metadata": {},
     "output_type": "display_data"
    }
   ],
   "source": [
    "from matplotlib.colors import ListedColormap\n",
    "\n",
    "#~~~~~~~~~~~~~~~~~~~~~~~~~~~~~~~~~~~~~~~~~~#\n",
    "### Prepare data.\n",
    "#~~~~~~~~~~~~~~~~~~~~~~~~~~~~~~~~~~~~~~~~~~#\n",
    "\n",
    "## Optimal choices.\n",
    "optimal_choice = data[data.Block<4].copy()\n",
    "optimal_choice['Optimal'] = np.equal(optimal_choice['Choice'], \n",
    "                                     optimal_choice[['M1','M2']].max(axis=1))\n",
    "\n",
    "## Define metadata.\n",
    "n_subjects = optimal_choice.Datetime.unique().size\n",
    "n_trials = optimal_choice.Trial.max()\n",
    "n_blocks = optimal_choice.Block.max()\n",
    "\n",
    "optimal_choice = optimal_choice.Optimal.values.reshape(n_subjects, n_blocks*n_trials).astype(int)\n",
    "\n",
    "## Sort.\n",
    "sort_ix = np.argsort(optimal_choice.mean(axis=-1))\n",
    "optimal_choice = optimal_choice[sort_ix[::-1]]\n",
    "\n",
    "#~~~~~~~~~~~~~~~~~~~~~~~~~~~~~~~~~~~~~~~~~~#\n",
    "### Plotting.\n",
    "#~~~~~~~~~~~~~~~~~~~~~~~~~~~~~~~~~~~~~~~~~~#\n",
    "\n",
    "## Initialize canvas.\n",
    "fig, ax = plt.subplots(1,1,figsize=(12,6))\n",
    "cmap = ListedColormap(['#adadad','k'])\n",
    "\n",
    "## Plot.\n",
    "sns.heatmap(optimal_choice, cmap=cmap, cbar=False)\n",
    "\n",
    "## Add info.\n",
    "ax.vlines(np.arange(1,n_blocks)*n_trials, 0, n_subjects, lw=5, color='w')\n",
    "ax.hlines(np.arange(n_subjects), 0, n_trials*n_blocks, lw=0.05, color='w')\n",
    "ax.set(xticks=[21,63,105], yticks=[], ylabel='Participants', title='Optimal Choices')\n",
    "ax.set_xticklabels(['Block 1', 'Block 2', 'Block 3'], rotation=0)\n",
    "\n",
    "plt.tight_layout()"
   ]
  },
  {
   "cell_type": "markdown",
   "metadata": {},
   "source": [
    "### Mood"
   ]
  },
  {
   "cell_type": "code",
   "execution_count": 4,
   "metadata": {},
   "outputs": [
    {
     "data": {
      "image/png": "[encoded data removed]",
      "text/plain": [
       "<matplotlib.figure.Figure at 0x7f5fa9f7a898>"
      ]
     },
     "metadata": {},
     "output_type": "display_data"
    }
   ],
   "source": [
    "#~~~~~~~~~~~~~~~~~~~~~~~~~~~~~~~~~~~~~~~~~~#\n",
    "### Prepare data.\n",
    "#~~~~~~~~~~~~~~~~~~~~~~~~~~~~~~~~~~~~~~~~~~#\n",
    "\n",
    "## Subset data.\n",
    "mood = ratings[ratings.Variable=='Mood'].copy()\n",
    "\n",
    "## Define metadata.\n",
    "n_subjects = mood.Datetime.unique().size\n",
    "trials = np.unique( (mood.Block-1) * 42 + mood.Trial)\n",
    "n_trials = trials.size\n",
    "\n",
    "mood = mood.Rating.values.reshape(n_subjects, n_trials)\n",
    "\n",
    "## Sort.\n",
    "sort_ix = np.argsort(mood.mean(axis=-1))\n",
    "mood = mood[sort_ix[::-1]]\n",
    "\n",
    "#~~~~~~~~~~~~~~~~~~~~~~~~~~~~~~~~~~~~~~~~~~#\n",
    "### Count.\n",
    "#~~~~~~~~~~~~~~~~~~~~~~~~~~~~~~~~~~~~~~~~~~#\n",
    "\n",
    "## Bin participants.\n",
    "positive_only = np.all(mood >= 0, axis=-1)\n",
    "negative_only = np.all(mood <= 0, axis=-1)\n",
    "switched_sign = np.any(mood > 0, axis=-1) * np.any(mood < 0, axis=-1)\n",
    "\n",
    "## Compute range.\n",
    "mood_range = np.ptp(mood, axis=-1)\n",
    "\n",
    "## Convert to DataFrame.\n",
    "clusters = DataFrame(dict(Positive = positive_only, \n",
    "                          Negative = negative_only,\n",
    "                          Switched = switched_sign,\n",
    "                          Range = mood_range))\n",
    "\n",
    "clusters = clusters.melt(id_vars='Range', var_name='Cluster')\n",
    "clusters = clusters[clusters.value]\n",
    "\n",
    "#~~~~~~~~~~~~~~~~~~~~~~~~~~~~~~~~~~~~~~~~~~#\n",
    "### Plotting.\n",
    "#~~~~~~~~~~~~~~~~~~~~~~~~~~~~~~~~~~~~~~~~~~#\n",
    "\n",
    "## Initialize canvas.\n",
    "fig = plt.figure(figsize=(12,9))\n",
    "\n",
    "## Plot.\n",
    "ax = plt.subplot2grid((3,2),(0,0),colspan=2,rowspan=2)\n",
    "cmap = sns.diverging_palette(250, 10, s=90, l=50, n=7, center=\"dark\")\n",
    "sns.heatmap(mood, vmin=-3, vmax=3, cmap=cmap, cbar_kws=dict(label='Mood'), ax=ax)\n",
    "ax.hlines(np.arange(n_subjects), 0, n_trials, lw=0.05, color='w')\n",
    "ax.set(xticklabels=trials, xlabel='Trial', yticks=[], ylabel='Participants')\n",
    "\n",
    "## Plot countplot.\n",
    "ax = plt.subplot2grid((3,2),(2,0))\n",
    "palette = ['#d62728', '#1f77b4', '#2ca02c']\n",
    "sns.countplot('Cluster', data=clusters, order=['Positive','Negative','Switched'],\n",
    "              palette=palette, ax=ax)\n",
    "ax.set(yticks=np.linspace(0,15,4), xlabel='', ylabel='Count')\n",
    "\n",
    "## Plot stripplot.\n",
    "ax = plt.subplot2grid((3,2),(2,1))\n",
    "sns.swarmplot('Cluster', 'Range', data=clusters, order=['Positive','Negative','Switched'],\n",
    "              palette=palette, ax=ax)\n",
    "ax.set(yticks=np.arange(clusters.Range.max()+1), xlabel='', ylabel='Count')\n",
    "\n",
    "sns.despine()\n",
    "plt.tight_layout()"
   ]
  },
  {
   "cell_type": "markdown",
   "metadata": {},
   "source": [
    "### Subjective estimates of likelihood of win"
   ]
  },
  {
   "cell_type": "code",
   "execution_count": null,
   "metadata": {
    "collapsed": true
   },
   "outputs": [],
   "source": [
    "g = sns.FacetGrid(ratings[ratings.Variable!='Mood'], col='Block', size=4)\n",
    "g.map(sns.pointplot, 'Trial', 'Rating', 'Variable', palette=['#4c72b0', '#55a868', '#c44e52'])\n",
    "g.axes[0,0].set(ylim=(15,65), ylabel='Subjective Estimate');"
   ]
  },
  {
   "cell_type": "markdown",
   "metadata": {},
   "source": [
    "### Wheel of fortune mood manipulation"
   ]
  },
  {
   "cell_type": "code",
   "execution_count": null,
   "metadata": {
    "collapsed": true
   },
   "outputs": [],
   "source": [
    "\n",
    "df = ratings.merge(metadata[['Subject','Datetime','WoF']], on=['Subject','Datetime'])\n",
    "df['Outcome'] = np.where(df.WoF > 0, 'Win', 'Loss')\n",
    "\n",
    "## Plot.\n",
    "fig, ax = plt.subplots(1,1,figsize=(8,4))\n",
    "sns.barplot('Block', 'Rating', 'Outcome', data=df[df.Variable=='Mood'], \n",
    "            palette=['#4c72b0', '#c44e52'], ax=ax)\n",
    "\n",
    "## Add info.\n",
    "ax.set(ylabel='Self-reported feeling')\n",
    "ax.hlines(0,*ax.get_xlim(),lw=0.5)\n",
    "ax.legend(loc=7, bbox_to_anchor=(1.25,0.5))\n",
    "\n",
    "sns.despine()\n",
    "plt.tight_layout()"
   ]
  },
  {
   "cell_type": "markdown",
   "metadata": {},
   "source": [
    "## Section 2: Model Fitting\n",
    "### Choice of priors"
   ]
  },
  {
   "cell_type": "code",
   "execution_count": null,
   "metadata": {
    "collapsed": true
   },
   "outputs": [],
   "source": [
    "from scipy.stats import norm\n",
    "\n",
    "#~~~~~~~~~~~~~~~~~~~~~~~~~~~~~~~~~~~~~~~~~~#\n",
    "### Define parameters.\n",
    "#~~~~~~~~~~~~~~~~~~~~~~~~~~~~~~~~~~~~~~~~~~#\n",
    "\n",
    "## Prior parameters\n",
    "mu = 0\n",
    "sd = 1\n",
    "scale = 50\n",
    "\n",
    "## Sampling parameters.\n",
    "x = np.linspace(-5,5,100)\n",
    "\n",
    "#~~~~~~~~~~~~~~~~~~~~~~~~~~~~~~~~~~~~~~~~~~#\n",
    "### Define useful functions.\n",
    "#~~~~~~~~~~~~~~~~~~~~~~~~~~~~~~~~~~~~~~~~~~#\n",
    "\n",
    "def inv_logit(arr):\n",
    "    return 1 / (1 + np.exp(-arr))\n",
    "\n",
    "def phi_approx(arr):\n",
    "    return inv_logit(0.07056 * arr ** 3 + 1.5976 * arr)\n",
    "\n",
    "#~~~~~~~~~~~~~~~~~~~~~~~~~~~~~~~~~~~~~~~~~~#\n",
    "### Plot.\n",
    "#~~~~~~~~~~~~~~~~~~~~~~~~~~~~~~~~~~~~~~~~~~#\n",
    "\n",
    "## Initialize canvas.\n",
    "fig, axes = plt.subplots(1,3,figsize=(16,4))\n",
    "\n",
    "## Compute PDF.\n",
    "y = norm(mu,sd).pdf(x)\n",
    "\n",
    "## Plot functions.\n",
    "axes[0].plot(x, phi_approx(x), lw=2.5)\n",
    "axes[0].set(xlabel='x', yticks=np.linspace(0,1,3), ylabel='y', title='phi_approx')\n",
    "\n",
    "## Plot learning rate.\n",
    "axes[1].plot(phi_approx(x) * scale, y, lw=2.5)\n",
    "axes[1].set(xlabel=r'%s $\\cdot$ phi_approx( $\\mathcal{N}(%s, %s)$ )' %(scale,mu,sd), \n",
    "            xticks=np.linspace(0,scale,5), ylabel='PDF', \n",
    "            title=r'Inverse Temperature ($\\beta$)')\n",
    "\n",
    "## Plot learning rate.\n",
    "axes[2].plot(phi_approx(x), y, lw=2.5)\n",
    "axes[2].set(xlabel=r'phi_approx( $\\mathcal{N}(%s, %s)$ )' %(mu,sd), \n",
    "            ylabel='PDF', title=r'Learning Rate ($\\eta$)')\n",
    "\n",
    "sns.despine()\n",
    "plt.tight_layout()"
   ]
  },
  {
   "cell_type": "markdown",
   "metadata": {},
   "source": [
    "### Baseline model: Standard RL (single subject)"
   ]
  },
  {
   "cell_type": "code",
   "execution_count": null,
   "metadata": {
    "collapsed": true
   },
   "outputs": [],
   "source": [
    "import pystan\n",
    "from scripts.plotting_utility import plot_toy_model\n",
    "\n",
    "#~~~~~~~~~~~~~~~~~~~~~~~~~~~~~~~~~~~~~~~~~~#\n",
    "### Define parameters.\n",
    "#~~~~~~~~~~~~~~~~~~~~~~~~~~~~~~~~~~~~~~~~~~#\n",
    "\n",
    "## Subject parameters.\n",
    "subjects = np.arange(data.Datetime.unique().size)\n",
    "\n",
    "## RL parameters.\n",
    "q = 0\n",
    "\n",
    "## Sampling parameters.\n",
    "model_name = 'moodRL_toy.stan'\n",
    "samples = 1000\n",
    "warmup = 750\n",
    "chains = 4\n",
    "thin = 1\n",
    "n_jobs = 2\n",
    "   \n",
    "#~~~~~~~~~~~~~~~~~~~~~~~~~~~~~~~~~~~~~~~~~~#\n",
    "### Main loop.\n",
    "#~~~~~~~~~~~~~~~~~~~~~~~~~~~~~~~~~~~~~~~~~~#\n",
    "    \n",
    "## Locate stan model.\n",
    "file = 'stan_models/%s' %model_name\n",
    "    \n",
    "for i, subject in enumerate(subjects):\n",
    "    \n",
    "    #~~~~~~~~~~~~~~~~~~~~~~~~~~~~~~~~~~~~~~~~~~#\n",
    "    ### Prepare data.\n",
    "    #~~~~~~~~~~~~~~~~~~~~~~~~~~~~~~~~~~~~~~~~~~#\n",
    "\n",
    "    ## Define subject.\n",
    "    datetime = data.Datetime.unique()[subject]\n",
    "\n",
    "    ## Reduce DataFrame.\n",
    "    df = data[np.logical_and(data.Datetime==datetime, data.Block < 4)].copy()\n",
    "\n",
    "    ## Drop trials with missing data.\n",
    "    df = df[df.Choice.notnull()]\n",
    "\n",
    "    ## Extract and prepare data.\n",
    "    X = df[['M1','M2']].values\n",
    "    Y = np.array([ np.argmax(x == y)+1 for x, y in zip(X, df.Choice.values) ])\n",
    "    R = df.Outcome.values\n",
    "    B = df.Block.values\n",
    "\n",
    "    ## Define metadata.\n",
    "    T = R.size\n",
    "\n",
    "    ## Organize data dictionary.\n",
    "    dd = dict(T=T, X=X, Y=Y, R=R, B=B, q=q)\n",
    "\n",
    "    #~~~~~~~~~~~~~~~~~~~~~~~~~~~~~~~~~~~~~~~~~~#\n",
    "    ### Model fitting.\n",
    "    #~~~~~~~~~~~~~~~~~~~~~~~~~~~~~~~~~~~~~~~~~~#\n",
    "\n",
    "    ## Fit model.\n",
    "    fit = pystan.stan(file=file, data=dd, iter=samples, warmup=warmup, thin=thin,\n",
    "                      chains=chains, seed=47404, n_jobs=n_jobs)\n",
    "\n",
    "    ## Plot.\n",
    "    plot_toy_model('plots/%s/subj%s.png' %(model_name.replace('.stan',''), i), fit)\n",
    "    \n",
    "print('Done.')"
   ]
  },
  {
   "cell_type": "markdown",
   "metadata": {},
   "source": [
    "### Baseline model: Standard RL (hierarchical)"
   ]
  },
  {
   "cell_type": "code",
   "execution_count": null,
   "metadata": {
    "collapsed": true
   },
   "outputs": [],
   "source": [
    "import pystan, time\n",
    "\n",
    "#~~~~~~~~~~~~~~~~~~~~~~~~~~~~~~~~~~~~~~~~~~#\n",
    "### Define parameters.\n",
    "#~~~~~~~~~~~~~~~~~~~~~~~~~~~~~~~~~~~~~~~~~~#\n",
    "\n",
    "## Model parameters.\n",
    "q = 0\n",
    "\n",
    "## Sampling parameters.\n",
    "model_name = 'moodRL_base.stan'\n",
    "samples = 100\n",
    "warmup = 50\n",
    "chains = 2\n",
    "thin = 1\n",
    "n_jobs = 2\n",
    "    \n",
    "#~~~~~~~~~~~~~~~~~~~~~~~~~~~~~~~~~~~~~~~~~~#\n",
    "### Prepare data.\n",
    "#~~~~~~~~~~~~~~~~~~~~~~~~~~~~~~~~~~~~~~~~~~#\n",
    "\n",
    "## Reduce DataFrame.\n",
    "df = data[data.Block < 4].copy()\n",
    "\n",
    "## Drop trials with missing data.\n",
    "df = df[df.Choice.notnull()]\n",
    "\n",
    "## Extract and prepare data.\n",
    "X = df[['M1','M2']].values\n",
    "Y = np.array([ np.argmax(x == y)+1 for x, y in zip(X, df.Choice.values) ])\n",
    "R = df.Outcome.values\n",
    "\n",
    "## Define metadata.\n",
    "_, ix = np.unique(df.Datetime, return_inverse=True)\n",
    "ix += 1\n",
    "T = ix.size\n",
    "N = ix.max()\n",
    "\n",
    "## Organize data dictionary.\n",
    "dd = dict(T=T, N=N, ix=ix, X=X, Y=Y, R=R, q=q)\n",
    "\n",
    "#~~~~~~~~~~~~~~~~~~~~~~~~~~~~~~~~~~~~~~~~~~#\n",
    "### Model fitting.\n",
    "#~~~~~~~~~~~~~~~~~~~~~~~~~~~~~~~~~~~~~~~~~~#\n",
    "print('n_samples = %0.0f.' %((samples - warmup) * chains / thin), end=' ')\n",
    "\n",
    "file = 'stan_models/%s' %model_name\n",
    "st = time.time()\n",
    "fit = pystan.stan(file=file, data=dd, iter=samples, warmup=warmup, thin=thin,\n",
    "                  chains=chains, seed=47404, n_jobs=n_jobs)\n",
    "print('Elapsed time: %0.2f s.' %(time.time()-st), end='\\n\\n')\n",
    "\n",
    "#~~~~~~~~~~~~~~~~~~~~~~~~~~~~~~~~~~~~~~~~~~#\n",
    "### Model results.\n",
    "#~~~~~~~~~~~~~~~~~~~~~~~~~~~~~~~~~~~~~~~~~~#\n",
    "\n",
    "## Extract results.\n",
    "parameters = fit.extract()"
   ]
  }
 ],
 "metadata": {
  "kernelspec": {
   "display_name": "Python 3",
   "language": "python",
   "name": "python3"
  },
  "language_info": {
   "codemirror_mode": {
    "name": "ipython",
    "version": 3
   },
   "file_extension": ".py",
   "mimetype": "text/x-python",
   "name": "python",
   "nbconvert_exporter": "python",
   "pygments_lexer": "ipython3",
   "version": "3.6.3"
  },
  "latex_envs": {
   "LaTeX_envs_menu_present": true,
   "autoclose": false,
   "autocomplete": true,
   "bibliofile": "biblio.bib",
   "cite_by": "apalike",
   "current_citInitial": 1,
   "eqLabelWithNumbers": true,
   "eqNumInitial": 1,
   "hotkeys": {
    "equation": "Ctrl-E",
    "itemize": "Ctrl-I"
   },
   "labels_anchors": false,
   "latex_user_defs": false,
   "report_style_numbering": false,
   "user_envs_cfg": false
  },
  "toc": {
   "nav_menu": {
    "height": "84px",
    "width": "252px"
   },
   "number_sections": false,
   "sideBar": true,
   "skip_h1_title": false,
   "title_cell": "Table of Contents",
   "title_sidebar": "Contents",
   "toc_cell": false,
   "toc_position": {},
   "toc_section_display": "block",
   "toc_window_display": false
  }
 },
 "nbformat": 4,
 "nbformat_minor": 2
}
