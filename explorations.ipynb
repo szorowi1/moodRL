{
 "cells": [
  {
   "cell_type": "markdown",
   "metadata": {},
   "source": [
    "# ddm-RL Model Fitting"
   ]
  },
  {
   "cell_type": "markdown",
   "metadata": {},
   "source": [
    "## Section 2: Model Fitting"
   ]
  },
  {
   "cell_type": "code",
   "execution_count": 1,
   "metadata": {},
   "outputs": [
    {
     "data": {
      "application/javascript": [
       "if (!(\"Notification\" in window)) {\n",
       "    alert(\"This browser does not support desktop notifications, so the %%notify magic will not work.\");\n",
       "} else if (Notification.permission !== 'granted' && Notification.permission !== 'denied') {\n",
       "    Notification.requestPermission(function (permission) {\n",
       "        if(!('permission' in Notification)) {\n",
       "            Notification.permission = permission;\n",
       "        }\n",
       "    })\n",
       "}\n"
      ],
      "text/plain": [
       "<IPython.core.display.Javascript object>"
      ]
     },
     "metadata": {},
     "output_type": "display_data"
    },
    {
     "name": "stderr",
     "output_type": "stream",
     "text": [
      "INFO:pystan:COMPILING THE C++ CODE FOR MODEL anon_model_1df21ae4e05437197cf55c75f73cb288 NOW.\n",
      "/home/szoro/Documents/software/anaconda3.6/lib/python3.6/site-packages/pystan/misc.py:399: FutureWarning: Conversion of the second argument of issubdtype from `float` to `np.floating` is deprecated. In future, it will be treated as `np.float64 == np.dtype(float).type`.\n",
      "  elif np.issubdtype(np.asarray(v).dtype, float):\n"
     ]
    },
    {
     "name": "stdout",
     "output_type": "stream",
     "text": [
      "0.0 of 1000 iterations ended with a divergence (0.0%)\n",
      "0 of 1000 iterations saturated the maximum tree depth of 10 (0.0%)\n",
      "E-BFMI indicated no pathological behavior\n",
      "Done.\n"
     ]
    }
   ],
   "source": [
    "import os, pystan\n",
    "import numpy as np\n",
    "import _pickle as cPickle\n",
    "from pandas import DataFrame, read_csv\n",
    "from scripts.diagnostics import check_div, check_energy, check_treedepth\n",
    "%load_ext jupyternotify\n",
    "\n",
    "#~~~~~~~~~~~~~~~~~~~~~~~~~~~~~~~~~~~~~~~~~~#\n",
    "### Define parameters.\n",
    "#~~~~~~~~~~~~~~~~~~~~~~~~~~~~~~~~~~~~~~~~~~#\n",
    "\n",
    "## Select model.\n",
    "model_name = 'ddmRL_toy.stan'\n",
    "\n",
    "## Sampling parameters.\n",
    "samples = 500\n",
    "warmup = 250\n",
    "chains = 4\n",
    "thin = 1\n",
    "n_jobs = 4\n",
    "\n",
    "#~~~~~~~~~~~~~~~~~~~~~~~~~~~~~~~~~~~~~~~~~~#\n",
    "### Load and prepare data.\n",
    "#~~~~~~~~~~~~~~~~~~~~~~~~~~~~~~~~~~~~~~~~~~#\n",
    "\n",
    "## Load and prepare behavior data.\n",
    "data = read_csv('data/moodRL_data.csv')\n",
    "data = data[data.Block < 4]\n",
    "data = data.fillna(-1)\n",
    "\n",
    "## Load and prepare ratings data.\n",
    "ratings = read_csv('data/moodRL_ratings.csv')\n",
    "ratings = ratings[ratings.Variable=='Mood']\n",
    "\n",
    "## Load and prepare metadata.\n",
    "metadata = read_csv('data/moodRL_metadata.csv')\n",
    "\n",
    "## Define metadata.\n",
    "N = data.Datetime.unique().size\n",
    "B = data.Block.max()\n",
    "T = data.Trial.max()\n",
    "\n",
    "## Extract and prepare stimulus presentation data.\n",
    "## Stimulus presentation is sorted such that the\n",
    "## more valuable machine occupies the right column.\n",
    "X = data[['M1','M2']].values.reshape(N,B,T,2)\n",
    "X = np.sort(X, axis=-1) \n",
    "\n",
    "## Extract and prepare choice data. Choice data \n",
    "## recoded to range [1, 2], where 1 = less valuable, \n",
    "# 2 = more valuable. Missing values coded as -1.\n",
    "Y = data.Choice.values.reshape(N,B,T,1)\n",
    "Y = np.where( np.any(np.equal(X, Y), axis=-1), np.argmax(np.equal(X, Y), axis=-1) + 1, -1 )\n",
    "\n",
    "## Extract and prepare RT data.\n",
    "Z = data.RT.values.reshape(N,B,T)\n",
    "Zmin = np.apply_over_axes(np.nanmin, np.where(Z < 0, np.nan, Z), [1,2]).squeeze()\n",
    "if np.any(Zmin < 0.2): raise ValueError('WARNING: Min RTs too low!')\n",
    "    \n",
    "## Extract and prepare reward data. All rewards \n",
    "## scaled between [0,1].\n",
    "R = data.Outcome.values.reshape(N,B,T)\n",
    "R = np.where(R > 0, 1, 0)\n",
    "\n",
    "## Extract and prepare mood data.\n",
    "M = ratings.loc[ratings.Trial>0, 'Rating'].values.reshape(N,B,3) / 4\n",
    "\n",
    "h12 = ratings.loc[ratings.Trial==0, 'Rating'].values.reshape(N,2) / 4\n",
    "h12 = np.where(h12==-1, -0.99, np.where(h12==1, 0.99, h12))\n",
    "h12 = np.arctanh(h12)\n",
    "\n",
    "## Extract and prepare WoF data.\n",
    "WoF = np.sign(metadata.WoF.values) * 28\n",
    "\n",
    "## TESTING\n",
    "X = X[0]\n",
    "Y = Y[0]\n",
    "Z = Z[0]\n",
    "R = R[0]\n",
    "M = M[0]\n",
    "\n",
    "## Organize data dictionary.\n",
    "dd = dict(N=N, B=B, T=T, X=X, Y=Y, Z=Z, R=R, M=M, h12=h12, WoF=WoF)\n",
    "\n",
    "#~~~~~~~~~~~~~~~~~~~~~~~~~~~~~~~~~~~~~~~~~~#\n",
    "### Fit model with Stan.\n",
    "#~~~~~~~~~~~~~~~~~~~~~~~~~~~~~~~~~~~~~~~~~~#\n",
    "\n",
    "if model_name:\n",
    "\n",
    "    #~~~~~~~~~~~~~~~~~~~~~~~~~~~~~~~~~~~~~~~~~~#\n",
    "    ### Model fitting and diagnostics.\n",
    "    #~~~~~~~~~~~~~~~~~~~~~~~~~~~~~~~~~~~~~~~~~~#\n",
    "        \n",
    "    ## Define control parameters.\n",
    "    if 'orig' in model_name: control = dict(adapt_delta = 0.9)\n",
    "    else: control = None\n",
    "        \n",
    "    ## Fit model.\n",
    "    file = 'stan_models/%s' %model_name\n",
    "    fit = pystan.stan(file=file, data=dd, iter=samples, warmup=warmup, thin=thin, \n",
    "                      chains=chains, control=control, n_jobs=n_jobs, seed=47404)\n",
    "    check_div(fit); check_treedepth(fit); check_energy(fit)\n",
    "\n",
    "    #~~~~~~~~~~~~~~~~~~~~~~~~~~~~~~~~~~~~~~~~~~#\n",
    "    ### Save data.\n",
    "    #~~~~~~~~~~~~~~~~~~~~~~~~~~~~~~~~~~~~~~~~~~#\n",
    "\n",
    "    ## Create out-directory.\n",
    "    out_dir = 'stan_fits/%s' %model_name.replace('.stan','')\n",
    "    if not os.path.isdir(out_dir): os.makedirs(out_dir)\n",
    "\n",
    "    ## Save summary file.\n",
    "    summary = fit.summary()\n",
    "    summary = DataFrame(summary['summary'], columns=summary['summary_colnames'], index=summary['summary_rownames'])\n",
    "    summary.to_csv(os.path.join(out_dir, 'summary.csv'))\n",
    "\n",
    "    ## Save contents of StanFit.\n",
    "    extract = fit.extract()\n",
    "    for k, v in dd.items(): extract[k] = v\n",
    "    with open(os.path.join(out_dir, 'StanFit.pickle'), 'wb') as f: cPickle.dump(extract, f)\n",
    "        \n",
    "    print('Done.')"
   ]
  },
  {
   "cell_type": "code",
   "execution_count": 2,
   "metadata": {},
   "outputs": [],
   "source": [
    "import matplotlib.pyplot as plt\n",
    "import seaborn as sns\n",
    "from scripts.wiener import wiener_rng\n",
    "%matplotlib inline\n",
    "\n",
    "#~~~~~~~~~~~~~~~~~~~~~~~~~~~~~~~~~~~~~~~~~~#\n",
    "### Posterior predictive checks.\n",
    "#~~~~~~~~~~~~~~~~~~~~~~~~~~~~~~~~~~~~~~~~~~#\n",
    "\n",
    "## Extract samples.\n",
    "extract = fit.extract()\n",
    "alpha = extract['alpha']\n",
    "tau = extract['tau']\n",
    "drift = extract['drift']\n",
    "\n",
    "## RNG.\n",
    "Z_pred = np.zeros_like(drift)\n",
    "Y_pred = np.zeros_like(drift)\n",
    "\n",
    "n_samp, n_block, n_trial = Z_pred.shape\n",
    "for i in np.arange(n_samp):\n",
    "    for j in np.arange(n_block):\n",
    "        for k in np.arange(n_trial):\n",
    "            Z_pred[i,j,k], Y_pred[i,j,k] = wiener_rng(alpha[i], tau[i], 0.5, drift[i,j,k])"
   ]
  },
  {
   "cell_type": "code",
   "execution_count": 3,
   "metadata": {},
   "outputs": [
    {
     "data": {
      "image/png": "[encoded data removed]",
      "text/plain": [
       "<matplotlib.figure.Figure at 0x7f72fb413b38>"
      ]
     },
     "metadata": {},
     "output_type": "display_data"
    }
   ],
   "source": [
    "#~~~~~~~~~~~~~~~~~~~~~~~~~~~~~~~~~~~~~~~~~~#\n",
    "### Plotting.\n",
    "#~~~~~~~~~~~~~~~~~~~~~~~~~~~~~~~~~~~~~~~~~~#\n",
    "\n",
    "## Initialize canvas.\n",
    "fig, axes = plt.subplots(1,2,figsize=(12,4))\n",
    "\n",
    "## Plot choice ppc. \n",
    "Y_ppc = np.array([np.equal(Y,y) for y in Y_pred]).mean(axis=0)\n",
    "sns.distplot(Y_ppc.flatten(), bins=np.arange(0,1.1,0.1), kde=False, \n",
    "             hist_kws=dict(edgecolor='w'), ax=axes[0])\n",
    "axes[0].set(xlabel='Fraction Correct Predictions', ylabel='Count', title='Posterior Predictive Check: Choice')\n",
    "\n",
    "## Plot RT ppc.\n",
    "sns.kdeplot(Z.flatten(), shade=True, ax=axes[1])\n",
    "for arr in Z_pred: sns.kdeplot(arr.flatten(), color='r', alpha=0.005, ax=axes[1])\n",
    "axes[0].set(xlabel='Reaction Time', ylabel='Density', title='Posterior Predictive Check: RT')\n",
    "    \n",
    "sns.despine()\n",
    "plt.tight_layout()"
   ]
  }
 ],
 "metadata": {
  "kernelspec": {
   "display_name": "Python 3",
   "language": "python",
   "name": "python3"
  },
  "language_info": {
   "codemirror_mode": {
    "name": "ipython",
    "version": 3
   },
   "file_extension": ".py",
   "mimetype": "text/x-python",
   "name": "python",
   "nbconvert_exporter": "python",
   "pygments_lexer": "ipython3",
   "version": "3.6.4"
  },
  "toc": {
   "nav_menu": {},
   "number_sections": false,
   "sideBar": true,
   "skip_h1_title": false,
   "toc_cell": false,
   "toc_position": {},
   "toc_section_display": "block",
   "toc_window_display": false
  }
 },
 "nbformat": 4,
 "nbformat_minor": 2
}
