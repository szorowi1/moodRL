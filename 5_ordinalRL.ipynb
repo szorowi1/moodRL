{
 "cells": [
  {
   "cell_type": "markdown",
   "metadata": {},
   "source": [
    "# Mood-RL Ordinal Regression"
   ]
  },
  {
   "cell_type": "markdown",
   "metadata": {},
   "source": [
    "## Section 1: Motivating the model"
   ]
  },
  {
   "cell_type": "code",
   "execution_count": null,
   "metadata": {},
   "outputs": [
    {
     "data": {
      "text/plain": [
       "[<matplotlib.lines.Line2D at 0x7fc35a01cc50>]"
      ]
     },
     "execution_count": 1,
     "metadata": {},
     "output_type": "execute_result"
    },
    {
     "data": {
      "image/png": "[encoded data removed]",
      "text/plain": [
       "<matplotlib.figure.Figure at 0x7fc35c552fd0>"
      ]
     },
     "metadata": {},
     "output_type": "display_data"
    }
   ],
   "source": [
    "import numpy as np\n",
    "import matplotlib.pyplot as plt\n",
    "import seaborn as sns\n",
    "from scipy.stats import norm\n",
    "sns.set_style('white')\n",
    "sns.set_context('notebook', font_scale=2)\n",
    "%matplotlib inline\n",
    "\n",
    "categories = np.arange(1,10)\n",
    "cutpoints = np.arange(categories.min() + 0.5, categories.max(), 1)\n",
    "C = categories.size\n",
    "\n",
    "mu = 5\n",
    "sd = 2.3\n",
    "\n",
    "p = np.zeros(C)\n",
    "p[0] = norm(loc=mu, scale=sd).cdf(cutpoints[0])\n",
    "for i in np.arange(1,C-1):\n",
    "    p[i] = norm(loc=mu, scale=sd).cdf(cutpoints[i]) - norm(loc=mu, scale=sd).cdf(cutpoints[i-1])\n",
    "p[-1] = 1 - norm(loc=mu, scale=sd).cdf(cutpoints[-1])\n",
    "    \n",
    "plt.plot(categories, p)"
   ]
  },
  {
   "cell_type": "markdown",
   "metadata": {},
   "source": [
    "## Section 2: Model fitting"
   ]
  },
  {
   "cell_type": "code",
   "execution_count": null,
   "metadata": {},
   "outputs": [
    {
     "data": {
      "application/javascript": [
       "if (!(\"Notification\" in window)) {\n",
       "    alert(\"This browser does not support desktop notifications, so the %%notify magic will not work.\");\n",
       "} else if (Notification.permission !== 'granted' && Notification.permission !== 'denied') {\n",
       "    Notification.requestPermission(function (permission) {\n",
       "        if(!('permission' in Notification)) {\n",
       "            Notification.permission = permission;\n",
       "        }\n",
       "    })\n",
       "}\n"
      ],
      "text/plain": [
       "<IPython.core.display.Javascript object>"
      ]
     },
     "metadata": {},
     "output_type": "display_data"
    },
    {
     "name": "stderr",
     "output_type": "stream",
     "text": [
      "INFO:pystan:COMPILING THE C++ CODE FOR MODEL anon_model_9a5c3e6dca7b69fcd850c519cc714c9f NOW.\n"
     ]
    }
   ],
   "source": [
    "import os, pystan\n",
    "import _pickle as cPickle\n",
    "from pandas import DataFrame, read_csv\n",
    "from scripts.diagnostics import check_div, check_energy, check_treedepth\n",
    "%load_ext jupyternotify\n",
    "\n",
    "#~~~~~~~~~~~~~~~~~~~~~~~~~~~~~~~~~~~~~~~~~~#\n",
    "### Define parameters.\n",
    "#~~~~~~~~~~~~~~~~~~~~~~~~~~~~~~~~~~~~~~~~~~#\n",
    "\n",
    "## Select model.\n",
    "model_name = 'moodRL_ordinal_no_mood.stan'\n",
    "\n",
    "## Sampling parameters.\n",
    "samples = 2500\n",
    "warmup = 2000\n",
    "chains = 4\n",
    "thin = 1\n",
    "n_jobs = 4\n",
    "\n",
    "#~~~~~~~~~~~~~~~~~~~~~~~~~~~~~~~~~~~~~~~~~~#\n",
    "### Load and prepare data.\n",
    "#~~~~~~~~~~~~~~~~~~~~~~~~~~~~~~~~~~~~~~~~~~#\n",
    "\n",
    "## Load and prepare behavior data.\n",
    "data = read_csv('data/moodRL_data.csv')\n",
    "data = data[data.Block < 4]\n",
    "\n",
    "## Load and prepare ratings data.\n",
    "ratings = read_csv('data/moodRL_ratings.csv')\n",
    "ratings = ratings[ratings.Variable=='Mood']\n",
    "\n",
    "## Load and prepare metadata.\n",
    "metadata = read_csv('data/moodRL_metadata.csv')\n",
    "\n",
    "## Extract and prepare stimulus presentation data.\n",
    "## Stimulus presentation is sorted such that the\n",
    "## more valuable machine occupies the right column.\n",
    "X = data[['M1','M2']].values\n",
    "X = np.sort(X, axis=-1) \n",
    "\n",
    "## Extract and prepare choice data. Choice data \n",
    "## recoded to range [1, 2], where 1 = less valuable, \n",
    "# 2 = more valuable. \n",
    "Y = data.Choice.values\n",
    "Y = np.equal(X[:,-1], Y).astype(int)\n",
    "\n",
    "## Extract and prepare reward data. All rewards \n",
    "## scaled between [0,1].\n",
    "R = data.Outcome.values\n",
    "R = np.where(R > 0, 1, 0)\n",
    "\n",
    "## Extract and prepare mood data. All data\n",
    "## scaled between [1,9].\n",
    "M = ratings.loc[ratings.Trial>0, 'Rating'].values\n",
    "M += 5\n",
    "\n",
    "## Define subject index.\n",
    "_, subj_ix = np.unique(data.Subject, return_inverse=True)\n",
    "subj_ix += 1\n",
    "\n",
    "## Define mood index.\n",
    "mood_ix = np.in1d(data.Trial, [7,21,35]).astype(int)\n",
    "shift, = np.where(np.logical_and(mood_ix, data.Choice.isnull()))\n",
    "mood_ix[shift] = 0\n",
    "mood_ix[shift-1] = 1\n",
    "mood_ix[np.where(mood_ix)] = np.arange(mood_ix.sum()) + 1\n",
    "\n",
    "## Remove trials with missing data.\n",
    "X = X[data.Choice.notnull()]\n",
    "Y = Y[data.Choice.notnull()]\n",
    "R = R[data.Choice.notnull()]\n",
    "subj_ix = subj_ix[data.Choice.notnull()]\n",
    "mood_ix = mood_ix[data.Choice.notnull()]\n",
    "\n",
    "## Define metadata.\n",
    "data = data.dropna()\n",
    "trials = data.Trial.values\n",
    "blocks = data.Block.values\n",
    "\n",
    "N = data.Subject.max()\n",
    "T = Y.size\n",
    "C = 9\n",
    "\n",
    "## Organize data dictionary.\n",
    "dd = dict(N=N, T=T, C=C, subj_ix=subj_ix, mood_ix=mood_ix, \n",
    "          X=X, Y=Y, R=R, M=M, blocks=blocks, trials=trials)\n",
    "\n",
    "#~~~~~~~~~~~~~~~~~~~~~~~~~~~~~~~~~~~~~~~~~~#\n",
    "### Fit model with Stan.\n",
    "#~~~~~~~~~~~~~~~~~~~~~~~~~~~~~~~~~~~~~~~~~~#\n",
    "\n",
    "if model_name:\n",
    "\n",
    "    #~~~~~~~~~~~~~~~~~~~~~~~~~~~~~~~~~~~~~~~~~~#\n",
    "    ### Model fitting and diagnostics.\n",
    "    #~~~~~~~~~~~~~~~~~~~~~~~~~~~~~~~~~~~~~~~~~~#\n",
    "        \n",
    "    ## Fit model.\n",
    "    file = 'stan_models/%s' %model_name\n",
    "    fit = pystan.stan(file=file, data=dd, iter=samples, warmup=warmup, thin=thin, chains=chains, \n",
    "                      n_jobs=n_jobs, seed=47404)\n",
    "    check_div(fit); check_treedepth(fit); check_energy(fit)\n",
    "\n",
    "    #~~~~~~~~~~~~~~~~~~~~~~~~~~~~~~~~~~~~~~~~~~#\n",
    "    ### Save data.\n",
    "    #~~~~~~~~~~~~~~~~~~~~~~~~~~~~~~~~~~~~~~~~~~#\n",
    "\n",
    "    ## Create out-directory.\n",
    "    out_dir = 'stan_fits/%s' %model_name.replace('.stan','')\n",
    "    if not os.path.isdir(out_dir): os.makedirs(out_dir)\n",
    "\n",
    "    ## Save summary file.\n",
    "    summary = fit.summary()\n",
    "    summary = DataFrame(summary['summary'], columns=summary['summary_colnames'], index=summary['summary_rownames'])\n",
    "    summary.to_csv(os.path.join(out_dir, 'summary.csv'))\n",
    "\n",
    "    ## Save contents of StanFit.\n",
    "    extract = fit.extract()\n",
    "    for k, v in dd.items(): extract[k] = v\n",
    "    with open(os.path.join(out_dir, 'StanFit.pickle'), 'wb') as fn: cPickle.dump(extract, fn)\n",
    "        \n",
    "    print('Done.')"
   ]
  },
  {
   "cell_type": "code",
   "execution_count": null,
   "metadata": {},
   "outputs": [],
   "source": [
    "%%notify\n",
    "summary[summary.Rhat > 1.1]"
   ]
  }
 ],
 "metadata": {
  "kernelspec": {
   "display_name": "Python 3",
   "language": "python",
   "name": "python3"
  },
  "language_info": {
   "codemirror_mode": {
    "name": "ipython",
    "version": 3
   },
   "file_extension": ".py",
   "mimetype": "text/x-python",
   "name": "python",
   "nbconvert_exporter": "python",
   "pygments_lexer": "ipython3",
   "version": "3.6.4"
  },
  "toc": {
   "nav_menu": {},
   "number_sections": false,
   "sideBar": true,
   "skip_h1_title": false,
   "toc_cell": false,
   "toc_position": {},
   "toc_section_display": "block",
   "toc_window_display": false
  }
 },
 "nbformat": 4,
 "nbformat_minor": 2
}
